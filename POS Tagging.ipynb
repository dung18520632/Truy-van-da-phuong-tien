{
  "nbformat": 4,
  "nbformat_minor": 0,
  "metadata": {
    "colab": {
      "name": "Untitled37.ipynb",
      "provenance": [],
      "collapsed_sections": [],
      "authorship_tag": "ABX9TyPM6TZi+y/4FRSBVsmbePK3",
      "include_colab_link": true
    },
    "kernelspec": {
      "name": "python3",
      "display_name": "Python 3"
    }
  },
  "cells": [
    {
      "cell_type": "markdown",
      "metadata": {
        "id": "view-in-github",
        "colab_type": "text"
      },
      "source": [
        "<a href=\"https://colab.research.google.com/github/dung18520632/Truy-van-da-phuong-tien/blob/main/POS%20Tagging.ipynb\" target=\"_parent\"><img src=\"https://colab.research.google.com/assets/colab-badge.svg\" alt=\"Open In Colab\"/></a>"
      ]
    },
    {
      "cell_type": "code",
      "metadata": {
        "id": "arXrbv6szqQ_"
      },
      "source": [
        "import sys\r\n",
        "import math\r\n",
        "from decimal import *\r\n",
        "import codecs\r\n",
        "from sklearn.metrics import f1_score, precision_score, recall_score, accuracy_score\r\n",
        "tag_list = set()\r\n",
        "tag_count = {}\r\n",
        "word_set = set()\r\n",
        "fin=\"/content/Test.txt\""
      ],
      "execution_count": 915,
      "outputs": []
    },
    {
      "cell_type": "code",
      "metadata": {
        "id": "L5Me7K8WeQDO"
      },
      "source": [
        "#Xử lí dữ liệu. Loại bỏ các dấu xuống dòng\r\n",
        "def parse_traindata():\r\n",
        "    wordtag_list = []\r\n",
        "    try:\r\n",
        "        input_file = codecs.open(fin, mode = 'r', encoding=\"utf-8\")\r\n",
        "        lines = input_file.readlines()\r\n",
        "        for line in lines:\r\n",
        "            line = line.strip('\\r\\n')\r\n",
        "            data = line.split(\" \")\r\n",
        "            wordtag_list.append(data)\r\n",
        "        input_file.close()\r\n",
        "        print(\"parse_traindata:\",wordtag_list)\r\n",
        "        return wordtag_list\r\n",
        "\r\n",
        "    except IOError:\r\n",
        "        print(\"Không thể đọc file\")\r\n",
        "        sys.exit()"
      ],
      "execution_count": 916,
      "outputs": []
    },
    {
      "cell_type": "code",
      "metadata": {
        "id": "Qs5eWprJeVk8"
      },
      "source": [
        "# Thống kê tần số xuất hiện của các tag đi với nhau! \r\n",
        "#Example:UN~tag~NN\r\n",
        "def transition_count():\r\n",
        "    global tag_list\r\n",
        "    global word_set\r\n",
        "    train_data = parse_traindata()\r\n",
        "    transition_dict = {}\r\n",
        "    global tag_count\r\n",
        "    for value in train_data:\r\n",
        "        previous = \"start\"\r\n",
        "        for data in value:\r\n",
        "            i = data[::-1]\r\n",
        "            word = data[:-i.find(\"/\") - 1]\r\n",
        "            word_set.add(word.lower())\r\n",
        "            data = data.split(\"/\")\r\n",
        "            tag = data[-1]\r\n",
        "            tag_list.add(tag)\r\n",
        "            if tag in tag_count:\r\n",
        "                tag_count[tag] += 1\r\n",
        "            else:\r\n",
        "                tag_count[tag] = 1\r\n",
        "            if (previous + \"~tag~\" + tag) in transition_dict:\r\n",
        "                transition_dict[previous + \"~tag~\" + tag] += 1\r\n",
        "                previous = tag\r\n",
        "            else:\r\n",
        "                transition_dict[previous + \"~tag~\" + tag] = 1\r\n",
        "                previous = tag\r\n",
        "    return transition_dict\r\n"
      ],
      "execution_count": 917,
      "outputs": []
    },
    {
      "cell_type": "code",
      "metadata": {
        "id": "hSnX4HXBeZbc"
      },
      "source": [
        "#Tính xác suất chuyển trạng thái smoothing có trong Data, sử dụng Laplace +1\r\n",
        "def transition_probability():\r\n",
        "    count_dict = transition_count()\r\n",
        "    print(\"transition_count:\",count_dict)\r\n",
        "    prob_dict = {}\r\n",
        "    \r\n",
        "    for key in count_dict:\r\n",
        "        den = 0\r\n",
        "        val = key.split(\"~tag~\")[0]\r\n",
        "        for key_2 in count_dict:\r\n",
        "            if key_2.split(\"~tag~\")[0] == val:\r\n",
        "                den += count_dict[key_2]\r\n",
        "        prob_dict[key] = Decimal(count_dict[key]+1)/(den+len(tag_list))\r\n",
        "    return prob_dict,count_dict"
      ],
      "execution_count": 918,
      "outputs": []
    },
    {
      "cell_type": "code",
      "metadata": {
        "id": "OHnvJLm6eqHT"
      },
      "source": [
        "#Tính xác suất chuyển trạng thái smoothing KHÔNG có trong Data, sử dụng Laplace +1\r\n",
        "def transition_smoothing():\r\n",
        "    a={}\r\n",
        "    transition_prob,count_dict = transition_probability()\r\n",
        "    \r\n",
        "    for i in count_dict.items():\r\n",
        "        arr=i[::-1]\r\n",
        "        if arr[1].split(\"~tag~\")[0] in a:\r\n",
        "            a[arr[1].split(\"~tag~\")[0]]+=arr[0]\r\n",
        "        else:\r\n",
        "            a[arr[1].split(\"~tag~\")[0]]=arr[0]\r\n",
        "    for j in tag_list:\r\n",
        "        if j not in a.keys():\r\n",
        "            a[j]=0\r\n",
        "    for tag in tag_list:\r\n",
        "        if \"start\" +  \"~tag~\" +tag not in  transition_prob:\r\n",
        "            transition_prob[(\"start\" + \"~tag~\" + tag)] = Decimal(1) / Decimal(a[\"start\"]+len(tag_list))\r\n",
        "    for tag1 in tag_list:\r\n",
        "        for tag2 in tag_list:\r\n",
        "            if (tag1 +\"~tag~\" + tag2) not in transition_prob:\r\n",
        "                transition_prob[(tag1+\"~tag~\"+tag2)] = Decimal(1)/Decimal(a[tag1]+len(tag_list))\r\n",
        "    print(\"Xác suất chuyển trạng thái:\",transition_prob)\r\n",
        "    return transition_prob"
      ],
      "execution_count": 919,
      "outputs": []
    },
    {
      "cell_type": "code",
      "metadata": {
        "id": "bg2-zUl-e4Nm"
      },
      "source": [
        "#Tính tần số xuất hiện của các word/tag\r\n",
        "#Example:Con/UN\r\n",
        "def emission_count():\r\n",
        "    #print \"In Emission Model\"\r\n",
        "    train_data = parse_traindata()\r\n",
        "    count_word = {}\r\n",
        "    for value in train_data:\r\n",
        "        for data in value:\r\n",
        "            i = data[::-1]\r\n",
        "            word = data[:-i.find(\"/\") - 1]\r\n",
        "            tag = data.split(\"/\")[-1]\r\n",
        "            if word.lower() + \"/\" + tag in count_word:\r\n",
        "                count_word[word.lower() + \"/\" + tag] +=1\r\n",
        "            else:\r\n",
        "                count_word[word.lower() + \"/\" + tag] = 1\r\n",
        "    return count_word"
      ],
      "execution_count": 920,
      "outputs": []
    },
    {
      "cell_type": "code",
      "metadata": {
        "id": "60QLmz3be8Ff"
      },
      "source": [
        "#Xác suất thể hiện trạng thái ẩn(emission), sử dụng Laplace +1\r\n",
        "def emission_probability():\r\n",
        "    global tag_count\r\n",
        "    word_count = emission_count()\r\n",
        "    print(\"emission_count:\",word_count)\r\n",
        "    emission_prob_dict = {}\r\n",
        "    for key in word_count:\r\n",
        "        emission_prob_dict[key] = Decimal(word_count[key]+1)/(tag_count[key.split(\"/\")[-1]]+len(word_set))\r\n",
        "    for word in word_set:\r\n",
        "        for tag in tag_count.items():\r\n",
        "            if word+\"/\"+tag[0] not in emission_prob_dict:\r\n",
        "                emission_prob_dict[word+\"/\"+tag[0]]=Decimal(1)/(tag[1]+len(word_set))\r\n",
        "    print(\"emission_probability:\",emission_prob_dict)\r\n",
        "    return emission_prob_dict\r\n"
      ],
      "execution_count": 921,
      "outputs": []
    },
    {
      "cell_type": "code",
      "metadata": {
        "id": "ADRftRhbe-58"
      },
      "source": [
        "#Thuật toán viterbi\r\n",
        "def viterbi_algorithm(sentence, tags, transition_prob, emission_prob,tag_count_emis, word_set):\r\n",
        "    word_list = sentence.split(\" \")\r\n",
        "    current_prob = {}\r\n",
        "    for tag in tags:\r\n",
        "        tp = Decimal(0)\r\n",
        "        em = Decimal(0)\r\n",
        "        if \"start~tag~\"+tag in transition_prob:\r\n",
        "            tp = Decimal(transition_prob[\"start~tag~\"+tag])\r\n",
        "        if word_list[0].lower() in word_set:\r\n",
        "            if (word_list[0].lower()+\"/\"+tag) in emission_prob:\r\n",
        "                em = Decimal(emission_prob[word_list[0].lower()+\"/\"+tag])\r\n",
        "                current_prob[tag] = tp * em\r\n",
        "        else:\r\n",
        "            em = Decimal(1) /(tag_count_emis[tag] +len(word_set))\r\n",
        "            current_prob[tag] = tp\r\n",
        "    if len(word_list) == 1:\r\n",
        "        max_path = max(current_prob, key=current_prob.get)\r\n",
        "        return max_path\r\n",
        "    else:\r\n",
        "        for i in range(1, len(word_list)):\r\n",
        "            previous_prob = current_prob\r\n",
        "            current_prob = {}\r\n",
        "            locals()['dict{}'.format(i)] = {}\r\n",
        "            previous_tag = \"\"\r\n",
        "            for tag in tags:\r\n",
        "                if word_list[i].lower() in word_set:\r\n",
        "                    if word_list[i].lower()+\"/\"+tag in emission_prob:\r\n",
        "                        em = Decimal(emission_prob[word_list[i].lower()+\"/\"+tag])\r\n",
        "                        max_prob, previous_state = max((Decimal(previous_prob[previous_tag]) * Decimal(transition_prob[previous_tag + \"~tag~\" + tag]) * em, previous_tag) for previous_tag in previous_prob)\r\n",
        "                        current_prob[tag] = max_prob\r\n",
        "                        print(tag)\r\n",
        "                        print(\"previous_state\",previous_state)\r\n",
        "                        print(current_prob)\r\n",
        "                        locals()['dict{}'.format(i)][previous_state + \"~\" + tag] = max_prob\r\n",
        "                        previous_tag = previous_state\r\n",
        "                else:\r\n",
        "                    em = Decimal(1) /(tag_count_emis[tag] +len(word_set))\r\n",
        "                    max_prob, previous_state = max((Decimal(previous_prob[previous_tag]) * Decimal(transition_prob[previous_tag+\"~tag~\"+tag]) *em, previous_tag) for previous_tag in previous_prob)\r\n",
        "                    current_prob[tag] = max_prob\r\n",
        "                    locals()['dict{}'.format(i)][previous_state + \"~\" + tag] = max_prob\r\n",
        "                    previous_tag = previous_state\r\n",
        "            if i == len(word_list)-1:\r\n",
        "                max_path = \"\"\r\n",
        "                last_tag = max(current_prob, key=current_prob.get)\r\n",
        "                max_path = max_path + last_tag \r\n",
        "                for j in range(len(word_list)-1,0,-1):\r\n",
        "                    for key in locals()['dict{}'.format(j)]:\r\n",
        "                        data = key.split(\"~\")\r\n",
        "                        if data[-1] == previous_tag:\r\n",
        "                            max_path = max_path + \" \" +data[0]\r\n",
        "                            previous_tag = data[0]\r\n",
        "                            break\r\n",
        "                result = max_path.split()\r\n",
        "                result.reverse()\r\n",
        "                return \" \".join(result)"
      ],
      "execution_count": 922,
      "outputs": []
    },
    {
      "cell_type": "code",
      "metadata": {
        "colab": {
          "base_uri": "https://localhost:8080/"
        },
        "id": "mTMkpyrG82Ja",
        "outputId": "04eb31cb-697d-4ef5-af5e-ded898d355a4"
      },
      "source": [
        "#Xác suất chuyển trạng thái\r\n",
        "transition_model = transition_smoothing()"
      ],
      "execution_count": 923,
      "outputs": [
        {
          "output_type": "stream",
          "text": [
            "parse_traindata: [['con/UN', 'mèo/NN', 'trèo/VB', 'cây/UN', 'cau/NN'], ['con/UN', 'chuột/NN', 'trèo/VB', 'cây/UN', 'cau/NN'], ['con/UN', 'chuột/NN', 'hỏi/VB', 'con/UN', 'mèo/NN'], ['con/UN', 'trèo/VB', 'là/VB', 'con/UN', 'nào/PRP']]\n",
            "transition_count: {'start~tag~UN': 4, 'UN~tag~NN': 6, 'NN~tag~VB': 3, 'VB~tag~UN': 4, 'UN~tag~VB': 1, 'VB~tag~VB': 1, 'UN~tag~PRP': 1}\n",
            "Xác suất chuyển trạng thái: {'start~tag~UN': Decimal('0.625'), 'UN~tag~NN': Decimal('0.5833333333333333333333333333'), 'NN~tag~VB': Decimal('0.5714285714285714285714285714'), 'VB~tag~UN': Decimal('0.5555555555555555555555555556'), 'UN~tag~VB': Decimal('0.1666666666666666666666666667'), 'VB~tag~VB': Decimal('0.2222222222222222222222222222'), 'UN~tag~PRP': Decimal('0.1666666666666666666666666667'), 'start~tag~NN': Decimal('0.125'), 'start~tag~VB': Decimal('0.125'), 'start~tag~PRP': Decimal('0.125'), 'UN~tag~UN': Decimal('0.08333333333333333333333333333'), 'NN~tag~UN': Decimal('0.1428571428571428571428571429'), 'NN~tag~NN': Decimal('0.1428571428571428571428571429'), 'NN~tag~PRP': Decimal('0.1428571428571428571428571429'), 'VB~tag~NN': Decimal('0.1111111111111111111111111111'), 'VB~tag~PRP': Decimal('0.1111111111111111111111111111'), 'PRP~tag~UN': Decimal('0.25'), 'PRP~tag~NN': Decimal('0.25'), 'PRP~tag~VB': Decimal('0.25'), 'PRP~tag~PRP': Decimal('0.25')}\n"
          ],
          "name": "stdout"
        }
      ]
    },
    {
      "cell_type": "code",
      "metadata": {
        "colab": {
          "base_uri": "https://localhost:8080/"
        },
        "id": "_v5JvIBN9Iei",
        "outputId": "dfbb06f3-c350-4a04-8db9-6b71d08fbce1"
      },
      "source": [
        "#Xác suất emission\r\n",
        "emission_model = emission_probability()"
      ],
      "execution_count": 924,
      "outputs": [
        {
          "output_type": "stream",
          "text": [
            "parse_traindata: [['con/UN', 'mèo/NN', 'trèo/VB', 'cây/UN', 'cau/NN'], ['con/UN', 'chuột/NN', 'trèo/VB', 'cây/UN', 'cau/NN'], ['con/UN', 'chuột/NN', 'hỏi/VB', 'con/UN', 'mèo/NN'], ['con/UN', 'trèo/VB', 'là/VB', 'con/UN', 'nào/PRP']]\n",
            "emission_count: {'con/UN': 6, 'mèo/NN': 2, 'trèo/VB': 3, 'cây/UN': 2, 'cau/NN': 2, 'chuột/NN': 2, 'hỏi/VB': 1, 'là/VB': 1, 'nào/PRP': 1}\n",
            "emission_probability: {'con/UN': Decimal('0.4117647058823529411764705882'), 'mèo/NN': Decimal('0.2'), 'trèo/VB': Decimal('0.2857142857142857142857142857'), 'cây/UN': Decimal('0.1764705882352941176470588235'), 'cau/NN': Decimal('0.2'), 'chuột/NN': Decimal('0.2'), 'hỏi/VB': Decimal('0.1428571428571428571428571429'), 'là/VB': Decimal('0.1428571428571428571428571429'), 'nào/PRP': Decimal('0.2'), 'là/UN': Decimal('0.05882352941176470588235294118'), 'là/NN': Decimal('0.06666666666666666666666666667'), 'là/PRP': Decimal('0.1'), 'cau/UN': Decimal('0.05882352941176470588235294118'), 'cau/VB': Decimal('0.07142857142857142857142857143'), 'cau/PRP': Decimal('0.1'), 'cây/NN': Decimal('0.06666666666666666666666666667'), 'cây/VB': Decimal('0.07142857142857142857142857143'), 'cây/PRP': Decimal('0.1'), 'con/NN': Decimal('0.06666666666666666666666666667'), 'con/VB': Decimal('0.07142857142857142857142857143'), 'con/PRP': Decimal('0.1'), 'chuột/UN': Decimal('0.05882352941176470588235294118'), 'chuột/VB': Decimal('0.07142857142857142857142857143'), 'chuột/PRP': Decimal('0.1'), 'trèo/UN': Decimal('0.05882352941176470588235294118'), 'trèo/NN': Decimal('0.06666666666666666666666666667'), 'trèo/PRP': Decimal('0.1'), 'nào/UN': Decimal('0.05882352941176470588235294118'), 'nào/NN': Decimal('0.06666666666666666666666666667'), 'nào/VB': Decimal('0.07142857142857142857142857143'), 'mèo/UN': Decimal('0.05882352941176470588235294118'), 'mèo/VB': Decimal('0.07142857142857142857142857143'), 'mèo/PRP': Decimal('0.1'), 'hỏi/UN': Decimal('0.05882352941176470588235294118'), 'hỏi/NN': Decimal('0.06666666666666666666666666667'), 'hỏi/PRP': Decimal('0.1')}\n"
          ],
          "name": "stdout"
        }
      ]
    },
    {
      "cell_type": "code",
      "metadata": {
        "colab": {
          "base_uri": "https://localhost:8080/"
        },
        "id": "mjrEHkRo9VJC",
        "outputId": "3b5bb937-5f1b-4db4-9c8e-35fa49835904"
      },
      "source": [
        "    tag_count_emis={}\r\n",
        "    for prob in emission_model.items():\r\n",
        "         i=prob[::-1]\r\n",
        "         i=list(i)\r\n",
        "         key_tag=i[1]\r\n",
        "         val=key_tag.split(\"/\")[-1]\r\n",
        "         if val in tag_count_emis:\r\n",
        "             tag_count_emis[val]+=1\r\n",
        "         else:\r\n",
        "             tag_count_emis[val]=1\r\n",
        "    fin_train = \"/content/gg.txt\"\r\n",
        "    input_file = codecs.open(fin_train, mode='r', encoding=\"utf-8\")\r\n",
        "    #Kết quả được ghi vào file HmmOutput.txt để predict\r\n",
        "    fout = codecs.open(\"HmmOutput.txt\",mode='w',encoding=\"utf-8\")\r\n",
        "    print(\"--------------------------------------------------------------------\")\r\n",
        "    print(\"Thuật toán ViterBi\")\r\n",
        "    for sentence in input_file.readlines():\r\n",
        "        path = viterbi_algorithm(sentence, tag_list, transition_model, emission_model,tag_count_emis, word_set)\r\n",
        "        sentence=sentence.strip(\"\\r\\n\")\r\n",
        "        word=sentence.split(\" \")\r\n",
        "        tag = path.split(\" \")\r\n",
        "        for j in range(0,len(word)):\r\n",
        "            if j == len(word)-1:\r\n",
        "                \r\n",
        "                fout.write(word[j] + \"/\" + tag[j]+u'\\n')\r\n",
        "            else:\r\n",
        "                fout.write(word[j] + \"/\" + tag[j] + \" \")\r\n",
        "    "
      ],
      "execution_count": 925,
      "outputs": [
        {
          "output_type": "stream",
          "text": [
            "--------------------------------------------------------------------\n",
            "Thuật toán ViterBi\n",
            "UN\n",
            "previous_state UN\n",
            "{'UN': Decimal('0.001261534025374855824682814302')}\n",
            "NN\n",
            "previous_state UN\n",
            "{'UN': Decimal('0.001261534025374855824682814302'), 'NN': Decimal('0.01000816993464052287581699346')}\n",
            "VB\n",
            "previous_state UN\n",
            "{'UN': Decimal('0.001261534025374855824682814302'), 'NN': Decimal('0.01000816993464052287581699346'), 'VB': Decimal('0.01225490196078431372549019608')}\n",
            "PRP\n",
            "previous_state UN\n",
            "{'UN': Decimal('0.001261534025374855824682814302'), 'NN': Decimal('0.01000816993464052287581699346'), 'VB': Decimal('0.01225490196078431372549019608'), 'PRP': Decimal('0.004289215686274509803921568628')}\n",
            "UN\n",
            "previous_state VB\n",
            "{'UN': Decimal('0.0004004869921824939125977188262')}\n",
            "NN\n",
            "previous_state NN\n",
            "{'UN': Decimal('0.0004004869921824939125977188262'), 'NN': Decimal('0.00009531590413943355119825708060')}\n",
            "VB\n",
            "previous_state NN\n",
            "{'UN': Decimal('0.0004004869921824939125977188262'), 'NN': Decimal('0.00009531590413943355119825708060'), 'VB': Decimal('0.0008169934640522875816993464051')}\n",
            "PRP\n",
            "previous_state NN\n",
            "{'UN': Decimal('0.0004004869921824939125977188262'), 'NN': Decimal('0.00009531590413943355119825708060'), 'VB': Decimal('0.0008169934640522875816993464051'), 'PRP': Decimal('0.0001429738562091503267973856209')}\n",
            "UN\n",
            "previous_state VB\n",
            "{'UN': Decimal('0.0001868939296851638258789354521')}\n",
            "NN\n",
            "previous_state UN\n",
            "{'UN': Decimal('0.0001868939296851638258789354521'), 'NN': Decimal('0.00001557449414043031882324462102')}\n",
            "VB\n",
            "previous_state VB\n",
            "{'UN': Decimal('0.0001868939296851638258789354521'), 'NN': Decimal('0.00001557449414043031882324462102'), 'VB': Decimal('0.00001296815022305218383649756199')}\n",
            "PRP\n",
            "previous_state VB\n",
            "{'UN': Decimal('0.0001868939296851638258789354521'), 'NN': Decimal('0.00001557449414043031882324462102'), 'VB': Decimal('0.00001296815022305218383649756199'), 'PRP': Decimal('0.000009077705156136528685548293389')}\n",
            "UN\n",
            "previous_state UN\n",
            "{'UN': Decimal('9.161467141429599307790953536E-7')}\n",
            "NN\n",
            "previous_state UN\n",
            "{'UN': Decimal('9.161467141429599307790953536E-7'), 'NN': Decimal('0.00002180429179660244635254246942')}\n",
            "VB\n",
            "previous_state UN\n",
            "{'UN': Decimal('9.161467141429599307790953536E-7'), 'NN': Decimal('0.00002180429179660244635254246942'), 'VB': Decimal('0.000002224927734347188403320660144')}\n",
            "PRP\n",
            "previous_state UN\n",
            "{'UN': Decimal('9.161467141429599307790953536E-7'), 'NN': Decimal('0.00002180429179660244635254246942'), 'VB': Decimal('0.000002224927734347188403320660144'), 'PRP': Decimal('0.000003114898828086063764648924202')}\n"
          ],
          "name": "stdout"
        }
      ]
    },
    {
      "cell_type": "code",
      "metadata": {
        "colab": {
          "base_uri": "https://localhost:8080/"
        },
        "id": "4CisX_Xx-1-F",
        "outputId": "f6a4cde6-d597-4988-b88b-d1eaa96beaf1"
      },
      "source": [
        "Result = codecs.open(\"HmmOutput.txt\",mode='r',encoding=\"utf-8\")\r\n",
        "for i in Result.readlines():\r\n",
        "    print(i)"
      ],
      "execution_count": 926,
      "outputs": [
        {
          "output_type": "stream",
          "text": [
            "con/UN trèo/NN là/VB con/UN mèo/NN\n",
            "\n"
          ],
          "name": "stdout"
        }
      ]
    }
  ]
}